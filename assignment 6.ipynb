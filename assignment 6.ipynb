{
 "cells": [
  {
   "cell_type": "code",
   "execution_count": 1,
   "id": "153dd9ff-c1c9-4dea-ac65-b0b97a855b99",
   "metadata": {},
   "outputs": [],
   "source": [
    "#. Write a Python program that prints the multiplication table for a given number (between 1 and 10) using a for loop."
   ]
  },
  {
   "cell_type": "code",
   "execution_count": 2,
   "id": "a16e8e78-d753-4bb7-bd01-9efb3c5a67c5",
   "metadata": {},
   "outputs": [
    {
     "name": "stdin",
     "output_type": "stream",
     "text": [
      "Enter a number between 1-10:  2\n"
     ]
    },
    {
     "name": "stdout",
     "output_type": "stream",
     "text": [
      "2 x 1 = 2\n",
      "2 x 2 = 4\n",
      "2 x 3 = 6\n",
      "2 x 4 = 8\n",
      "2 x 5 = 10\n",
      "2 x 6 = 12\n",
      "2 x 7 = 14\n",
      "2 x 8 = 16\n",
      "2 x 9 = 18\n",
      "2 x 10 = 20\n"
     ]
    }
   ],
   "source": [
    "a = int(input('Enter a number between 1-10: '))\n",
    "for ab in range(1, 11):\n",
    "    print(a, 'x', ab, '=', ab * a)"
   ]
  },
  {
   "cell_type": "code",
   "execution_count": 3,
   "id": "bbd5c7bd-ff24-4d48-ace6-3e6889106cb4",
   "metadata": {},
   "outputs": [],
   "source": [
    "#Q2. Stop sending emails after 3 users (Using for loop and break"
   ]
  },
  {
   "cell_type": "code",
   "execution_count": 4,
   "id": "32b4c191-b1d4-4549-8fb8-e790eba33409",
   "metadata": {},
   "outputs": [],
   "source": [
    "users = [\"Ali\", \"Sara\", \"John\", \"Zara\", \"Mike\"]"
   ]
  },
  {
   "cell_type": "code",
   "execution_count": 5,
   "id": "017dcabc-2662-478e-b1de-963ccd3ca7eb",
   "metadata": {},
   "outputs": [
    {
     "name": "stdout",
     "output_type": "stream",
     "text": [
      "Email sent to user Ali\n",
      "Email sent to user Sara\n",
      "Email sent to user John\n"
     ]
    }
   ],
   "source": [
    "for user in users :\n",
    "    print(f\"Email sent to user {user}\")\n",
    "    if users.index(user)==2:\n",
    "        break"
   ]
  },
  {
   "cell_type": "code",
   "execution_count": 6,
   "id": "bf08b441-b45d-41c9-92dc-4b26b22c58c7",
   "metadata": {},
   "outputs": [],
   "source": [
    "#Q3. Stop monitoring temperature if critical temperature reached (Using for loop and break)"
   ]
  },
  {
   "cell_type": "code",
   "execution_count": 7,
   "id": "70ab21ab-5155-4336-b72f-8b3cf9771dc2",
   "metadata": {},
   "outputs": [
    {
     "name": "stdout",
     "output_type": "stream",
     "text": [
      "temp is 22\n",
      "temp is 25\n",
      "temp is 30\n",
      "Critical temp 40 reached\n"
     ]
    }
   ],
   "source": [
    "temps = [22, 25, 30, 45, 28]\n",
    "for temp in temps:\n",
    "    if temp >=40:\n",
    "        print(f\"Critical temp 40 reached\")\n",
    "        break\n",
    "    else:\n",
    "        print(f\"temp is {temp}\")"
   ]
  },
  {
   "cell_type": "code",
   "execution_count": 8,
   "id": "70b3531e-95df-489f-871d-60c3c09e2b33",
   "metadata": {},
   "outputs": [],
   "source": [
    "#Q4. Calculate total price of items in a shopping cart (Using For loop)"
   ]
  },
  {
   "cell_type": "code",
   "execution_count": 9,
   "id": "4c8a5dbc-ca7b-4d4d-9e4a-c5deae8329b6",
   "metadata": {},
   "outputs": [
    {
     "name": "stdout",
     "output_type": "stream",
     "text": [
      "Total Price: 700\n"
     ]
    }
   ],
   "source": [
    "cart = [100, 250, 50, 300]\n",
    "total_price = 0\n",
    "for price in cart:\n",
    "    total_price += price\n",
    "print(f\"Total Price: {total_price}\")\n"
   ]
  },
  {
   "cell_type": "code",
   "execution_count": 11,
   "id": "9bdf171c-770f-4d78-9622-a65aacfacfd0",
   "metadata": {},
   "outputs": [],
   "source": [
    "#Q5. Skip customers with unpaid bills (Using For loop and continue"
   ]
  },
  {
   "cell_type": "code",
   "execution_count": 12,
   "id": "c873c8a3-3acc-4a80-95de-1d70cfaedbd4",
   "metadata": {},
   "outputs": [
    {
     "name": "stdout",
     "output_type": "stream",
     "text": [
      "Access granted to: Ali\n",
      "Access granted to: John\n"
     ]
    }
   ],
   "source": [
    "customers = [\n",
    "    {\"name\": \"Ali\", \"paid\": True},\n",
    "    {\"name\": \"Sara\", \"paid\": False},\n",
    "    {\"name\": \"John\", \"paid\": True}\n",
    "]\n",
    "\n",
    "for customer in customers:\n",
    "    if not customer[\"paid\"]:\n",
    "        continue  \n",
    "    print(f\"Access granted to: {customer['name']}\")\n"
   ]
  },
  {
   "cell_type": "code",
   "execution_count": 13,
   "id": "0b1de37e-9af7-4993-aae2-395845548ec9",
   "metadata": {},
   "outputs": [],
   "source": [
    "#Q6. Send personalized emails to a list of users (Using for loop)"
   ]
  },
  {
   "cell_type": "code",
   "execution_count": 14,
   "id": "31bfda9c-992e-4e59-85b7-59106e0f453d",
   "metadata": {},
   "outputs": [
    {
     "name": "stdout",
     "output_type": "stream",
     "text": [
      "Hello Ali, your subscription is active!\n",
      "Hello Sara, your subscription is active!\n",
      "Hello John, your subscription is active!\n"
     ]
    }
   ],
   "source": [
    "users = [\"Ali\", \"Sara\", \"John\"]\n",
    "for user in users:\n",
    "    print(f\"Hello {user}, your subscription is active!\")\n"
   ]
  },
  {
   "cell_type": "code",
   "execution_count": 15,
   "id": "323611f6-4a5a-4430-abde-141797d3fcd0",
   "metadata": {},
   "outputs": [],
   "source": [
    "#Q7. Extract domain names from email list (Using for loop)"
   ]
  },
  {
   "cell_type": "code",
   "execution_count": 16,
   "id": "55570dfd-4f1f-49ea-b18b-d511285247ee",
   "metadata": {},
   "outputs": [
    {
     "name": "stdout",
     "output_type": "stream",
     "text": [
      "domains: ['gmail.com', 'yahoo.com', 'hotmail.com']\n"
     ]
    }
   ],
   "source": [
    "emails = [\"ali@gmail.com\", \"sara@yahoo.com\", \"john@hotmail.com\"]\n",
    "domains = [email.split('@')[1] for email in emails]\n",
    "print(f\"domains: {domains}\")\n"
   ]
  },
  {
   "cell_type": "code",
   "execution_count": 17,
   "id": "e079b5a9-628f-4209-b930-dafbe7c03a35",
   "metadata": {},
   "outputs": [],
   "source": [
    "#Q8. Print only overdue tasks (Using for loop)"
   ]
  },
  {
   "cell_type": "code",
   "execution_count": 18,
   "id": "6d46ade8-5853-453c-b11e-f1503709252d",
   "metadata": {},
   "outputs": [
    {
     "name": "stdout",
     "output_type": "stream",
     "text": [
      "Overdue: Submit report\n",
      "Overdue: Clean house\n"
     ]
    }
   ],
   "source": [
    "tasks = [\n",
    "    {\"task\": \"Pay bills\", \"status\": \"done\"},\n",
    "    {\"task\": \"Submit report\", \"status\": \"pending\"},\n",
    "    {\"task\": \"Clean house\", \"status\": \"pending\"}\n",
    "]\n",
    "\n",
    "for task in tasks:\n",
    "    if task[\"status\"] == \"pending\":\n",
    "        print(f\"Overdue: {task['task']}\")\n"
   ]
  },
  {
   "cell_type": "code",
   "execution_count": 19,
   "id": "16b43621-137f-483d-8dff-601ca7c637f4",
   "metadata": {},
   "outputs": [],
   "source": [
    "#Q9. Extract names of employees with salary above 50,000"
   ]
  },
  {
   "cell_type": "code",
   "execution_count": 20,
   "id": "61dbc3f2-b74e-4ba8-be49-1dd1eab55b7b",
   "metadata": {},
   "outputs": [
    {
     "name": "stdout",
     "output_type": "stream",
     "text": [
      "Ali earns above 50,000\n",
      "John earns above 50,000\n"
     ]
    }
   ],
   "source": [
    "employees = [\n",
    "    {\"name\": \"Ali\", \"salary\": 60000},\n",
    "    {\"name\": \"Sara\", \"salary\": 45000},\n",
    "    {\"name\": \"John\", \"salary\": 70000}\n",
    "]\n",
    "\n",
    "for employee in employees:\n",
    "    if employee[\"salary\"] > 50000:\n",
    "        print(f\"{employee['name']} earns above 50,000\")\n"
   ]
  },
  {
   "cell_type": "code",
   "execution_count": 21,
   "id": "12c718b1-239b-4ae0-bb2f-f2941a367064",
   "metadata": {},
   "outputs": [],
   "source": [
    "#Q10. Skip weekends while printing workdays (Using for loop and continue)"
   ]
  },
  {
   "cell_type": "code",
   "execution_count": 22,
   "id": "b214e974-b4e7-4e8b-90b0-8edd46117c56",
   "metadata": {},
   "outputs": [
    {
     "name": "stdout",
     "output_type": "stream",
     "text": [
      "Workday: Monday\n",
      "Workday: Tuesday\n",
      "Workday: Wednesday\n",
      "Workday: Thursday\n",
      "Workday: Friday\n"
     ]
    }
   ],
   "source": [
    "days = [\"Monday\", \"Tuesday\", \"Wednesday\", \"Thursday\", \"Friday\", \"Saturday\", \"Sunday\"]\n",
    "for day in days:\n",
    "    if day in [\"Saturday\", \"Sunday\"]:\n",
    "        continue\n",
    "    print(f\"Workday: {day}\")\n"
   ]
  },
  {
   "cell_type": "code",
   "execution_count": null,
   "id": "5b00d4e9-085e-4f4e-bedf-1db2c3ab0ca4",
   "metadata": {},
   "outputs": [],
   "source": []
  }
 ],
 "metadata": {
  "kernelspec": {
   "display_name": "Python 3 (ipykernel)",
   "language": "python",
   "name": "python3"
  },
  "language_info": {
   "codemirror_mode": {
    "name": "ipython",
    "version": 3
   },
   "file_extension": ".py",
   "mimetype": "text/x-python",
   "name": "python",
   "nbconvert_exporter": "python",
   "pygments_lexer": "ipython3",
   "version": "3.13.5"
  }
 },
 "nbformat": 4,
 "nbformat_minor": 5
}
