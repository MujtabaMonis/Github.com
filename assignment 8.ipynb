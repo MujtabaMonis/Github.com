{
 "cells": [
  {
   "cell_type": "code",
   "execution_count": 1,
   "id": "64b74972-18ee-4663-982b-5351a1f0d9ea",
   "metadata": {},
   "outputs": [
    {
     "name": "stdout",
     "output_type": "stream",
     "text": [
      "The sum is: 15\n"
     ]
    }
   ],
   "source": [
    "#Q1. Python function add_numbers\n",
    "def add_numbers(num1, num2):\n",
    "    return num1 + num2\n",
    "\n",
    "# Test the function\n",
    "result = add_numbers(5, 10)\n",
    "print(f\"The sum is: {result}\")\n"
   ]
  },
  {
   "cell_type": "code",
   "execution_count": 2,
   "id": "c5024fe3-3230-47e5-ad4f-4240a604d375",
   "metadata": {},
   "outputs": [
    {
     "name": "stdout",
     "output_type": "stream",
     "text": [
      "3 vowels\n"
     ]
    }
   ],
   "source": [
    "#Q2. Python function count_vowels\n",
    "def count_vowels(string):\n",
    "    vowels = \"aeiouAEIOU\"\n",
    "    count = sum(1 for char in string if char in vowels)\n",
    "    return f\"{count} vowels\"\n",
    "\n",
    "# Test the function\n",
    "result = count_vowels(\"Welcome\")\n",
    "print(result)\n"
   ]
  },
  {
   "cell_type": "code",
   "execution_count": 3,
   "id": "d8218a19-ea92-494a-976f-84a211c99cdf",
   "metadata": {},
   "outputs": [
    {
     "name": "stdout",
     "output_type": "stream",
     "text": [
      "100 USD is equivalent to 28000 PKR\n"
     ]
    }
   ],
   "source": [
    "#Q3. Python function currency_converter\n",
    "def currency_converter(amount, exchange_rate=280):\n",
    "    converted_amount = amount * exchange_rate\n",
    "    return f'{amount} USD is equivalent to {converted_amount} PKR'\n",
    "\n",
    "# Test the function\n",
    "result = currency_converter(100)\n",
    "print(result)\n"
   ]
  },
  {
   "cell_type": "code",
   "execution_count": 4,
   "id": "50d4ff89-0d2f-499f-a863-6e616d68b0bf",
   "metadata": {},
   "outputs": [
    {
     "name": "stdout",
     "output_type": "stream",
     "text": [
      "Name: John Doe\n",
      "Age: 15\n",
      "Grade: 10th\n",
      "School: Greenwood High\n"
     ]
    }
   ],
   "source": [
    "#Q4. Python function display_student_info\n",
    "def display_student_info(name, age, grade, school):\n",
    "    return f\"Name: {name}\\nAge: {age}\\nGrade: {grade}\\nSchool: {school}\"\n",
    "\n",
    "# Test the function\n",
    "result = display_student_info(name=\"John Doe\", age=15, grade=\"10th\", school=\"Greenwood High\")\n",
    "print(result)\n"
   ]
  },
  {
   "cell_type": "code",
   "execution_count": 5,
   "id": "2a1e4ea4-2187-442f-8b96-3ecc7f4ea7d3",
   "metadata": {},
   "outputs": [
    {
     "name": "stdout",
     "output_type": "stream",
     "text": [
      "Total price: 150\n"
     ]
    }
   ],
   "source": [
    "#Q5. Python function calculate_price\n",
    "def calculate_price(price, quantity):\n",
    "    return price * quantity\n",
    "\n",
    "# Test the function\n",
    "result = calculate_price(50, 3)\n",
    "print(f\"Total price: {result}\")\n"
   ]
  },
  {
   "cell_type": "code",
   "execution_count": 6,
   "id": "8ef25e3d-efc9-4673-9a9a-06beabe876b3",
   "metadata": {},
   "outputs": [
    {
     "name": "stdout",
     "output_type": "stream",
     "text": [
      "Product: Laptop\n",
      "Amazon: $800\n",
      "eBay: $750\n",
      "Walmart: $780\n"
     ]
    }
   ],
   "source": [
    "#Q6. Python function display_prices\n",
    "def display_prices(product, **prices):\n",
    "    print(f\"Product: {product}\")\n",
    "    for store, price in prices.items():\n",
    "        print(f\"{store}: ${price}\")\n",
    "\n",
    "# Test the function\n",
    "display_prices(\"Laptop\", Amazon=800, eBay=750, Walmart=780)\n"
   ]
  },
  {
   "cell_type": "code",
   "execution_count": 7,
   "id": "4abedf53-6424-4000-a603-8f70a935d182",
   "metadata": {},
   "outputs": [
    {
     "name": "stdout",
     "output_type": "stream",
     "text": [
      "The maximum number is: 10\n"
     ]
    }
   ],
   "source": [
    "#Q7. Python function find_max\n",
    "def find_max(*args):\n",
    "    return max(args)\n",
    "\n",
    "# Test the function\n",
    "result = find_max(1, 5, 10, 3, 7)\n",
    "print(f\"The maximum number is: {result}\")\n"
   ]
  },
  {
   "cell_type": "code",
   "execution_count": 8,
   "id": "7a3a278b-c229-4ef4-aa8f-e808122a5226",
   "metadata": {},
   "outputs": [
    {
     "name": "stdout",
     "output_type": "stream",
     "text": [
      "Area: 15\n",
      "Perimeter: 16\n"
     ]
    }
   ],
   "source": [
    "#Q8. Python function calculate_rectangle\n",
    "def calculate_rectangle(length, width):\n",
    "    def calculate_area():\n",
    "        return length * width\n",
    "\n",
    "    def calculate_perimeter():\n",
    "        return 2 * (length + width)\n",
    "\n",
    "    area = calculate_area()\n",
    "    perimeter = calculate_perimeter()\n",
    "\n",
    "    return f\"Area: {area}\\nPerimeter: {perimeter}\"\n",
    "\n",
    "# Test the function\n",
    "result = calculate_rectangle(5, 3)\n",
    "print(result)\n"
   ]
  },
  {
   "cell_type": "code",
   "execution_count": 9,
   "id": "163c6f0f-14c3-4a08-97d5-0048e00b2c6c",
   "metadata": {},
   "outputs": [
    {
     "name": "stdout",
     "output_type": "stream",
     "text": [
      "Taxi fare for 10 km = 1000 PKR\n",
      "Taxi fare for 15 km = 1800 PKR\n"
     ]
    }
   ],
   "source": [
    "#Q9. Python function taxi_fare\n",
    "def taxi_fare(distance, rate=100):\n",
    "    return distance * rate\n",
    "\n",
    "# Test the function\n",
    "result_default = taxi_fare(10)\n",
    "result_custom = taxi_fare(15, 120)\n",
    "print(f\"Taxi fare for 10 km = {result_default} PKR\")\n",
    "print(f\"Taxi fare for 15 km = {result_custom} PKR\")\n"
   ]
  },
  {
   "cell_type": "code",
   "execution_count": 10,
   "id": "31a9ab7b-edad-4ac7-90ce-3602c055e9c1",
   "metadata": {},
   "outputs": [
    {
     "name": "stdout",
     "output_type": "stream",
     "text": [
      "Final Bill = 600 PKR\n",
      "Final Bill = 500 PKR\n"
     ]
    }
   ],
   "source": [
    "#Q10. Python function shopping_bill\n",
    "def shopping_bill(price, quantity, discount=0):\n",
    "    def calculate_total():\n",
    "        return price * quantity\n",
    "\n",
    "    def apply_discount(total):\n",
    "        return max(0, total - discount)\n",
    "\n",
    "    total = calculate_total()\n",
    "    final_bill = apply_discount(total)\n",
    "    return f\"Final Bill = {final_bill} PKR\"\n",
    "\n",
    "# Test the function\n",
    "result_no_discount = shopping_bill(100, 6)\n",
    "result_with_discount = shopping_bill(100, 6, 100)\n",
    "print(result_no_discount)\n",
    "print(result_with_discount)\n"
   ]
  },
  {
   "cell_type": "code",
   "execution_count": null,
   "id": "c70f4920-3943-48bd-8a96-9e30cb7e2bc5",
   "metadata": {},
   "outputs": [],
   "source": []
  }
 ],
 "metadata": {
  "kernelspec": {
   "display_name": "Python 3 (ipykernel)",
   "language": "python",
   "name": "python3"
  },
  "language_info": {
   "codemirror_mode": {
    "name": "ipython",
    "version": 3
   },
   "file_extension": ".py",
   "mimetype": "text/x-python",
   "name": "python",
   "nbconvert_exporter": "python",
   "pygments_lexer": "ipython3",
   "version": "3.13.5"
  }
 },
 "nbformat": 4,
 "nbformat_minor": 5
}
