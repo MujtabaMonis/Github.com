{
 "cells": [
  {
   "cell_type": "raw",
   "id": "7030bd43-cd6a-45e2-a173-3b2a78d587e5",
   "metadata": {},
   "source": [
    "Question 1:\n",
    "\n",
    "Write a Python program that prints numbers from 1 to 20, but skips all even numbers."
   ]
  },
  {
   "cell_type": "code",
   "execution_count": 1,
   "id": "c01b14d4-e7c3-421a-a382-e54dd5e0f179",
   "metadata": {},
   "outputs": [
    {
     "name": "stdout",
     "output_type": "stream",
     "text": [
      "1 3 5 7 9 11 13 15 17 19 "
     ]
    }
   ],
   "source": [
    "num = 1\n",
    "\n",
    "while num <= 20:\n",
    "    if num % 2 == 0:\n",
    "        num += 1\n",
    "        continue\n",
    "    print(num, end=' ')\n",
    "    num += 1\n"
   ]
  },
  {
   "cell_type": "raw",
   "id": "82a8ad67-1214-4328-86bf-36e90542c06b",
   "metadata": {},
   "source": [
    "Question 2:\n",
    "\n",
    "Write a Python program that keeps asking the user to enter numbers and prints them.\n",
    "\n",
    "The program should stop the loop if the user enters a negative number."
   ]
  },
  {
   "cell_type": "code",
   "execution_count": 3,
   "id": "54c97548-6863-410f-b212-c28efa30baf8",
   "metadata": {},
   "outputs": [
    {
     "name": "stdin",
     "output_type": "stream",
     "text": [
      "Enter a number (negative to stop):  5\n"
     ]
    },
    {
     "name": "stdout",
     "output_type": "stream",
     "text": [
      "You entered: 5\n"
     ]
    },
    {
     "name": "stdin",
     "output_type": "stream",
     "text": [
      "Enter a number (negative to stop):  -7\n"
     ]
    },
    {
     "name": "stdout",
     "output_type": "stream",
     "text": [
      "Negative number entered. Loop stopped!\n"
     ]
    }
   ],
   "source": [
    "while True:\n",
    "    number = int(input(\"Enter a number (negative to stop): \"))\n",
    "    \n",
    "    if number < 0:\n",
    "        print(\"Negative number entered. Loop stopped!\")\n",
    "        break\n",
    "    else:\n",
    "        print(f\"You entered: {number}\")\n"
   ]
  },
  {
   "cell_type": "raw",
   "id": "6b5e91ef-5ec3-4bbe-a0a2-fbf979f151f2",
   "metadata": {},
   "source": [
    "Question 3:\n",
    "\n",
    "Write a Python program that asks the user to guess a secret word."
   ]
  },
  {
   "cell_type": "code",
   "execution_count": 4,
   "id": "6807a985-e251-4cde-a674-49fc9aa1a3da",
   "metadata": {},
   "outputs": [
    {
     "name": "stdin",
     "output_type": "stream",
     "text": [
      "Guess the word:  java\n",
      "Guess the word:  python\n"
     ]
    },
    {
     "name": "stdout",
     "output_type": "stream",
     "text": [
      "🎉 You guessed it!\n"
     ]
    }
   ],
   "source": [
    "secret_word = \"python\"\n",
    "\n",
    "while True:\n",
    "    guess = input(\"Guess the word: \").lower()\n",
    "    if guess == secret_word:\n",
    "        print(\"🎉 You guessed it!\")\n",
    "        break\n"
   ]
  },
  {
   "cell_type": "raw",
   "id": "702444d8-4900-4571-8245-740488095328",
   "metadata": {},
   "source": [
    "Question 4:\n",
    "\n",
    "orders = [ {\"order_id\": 1, \"customer\": \"Ali\", \"items\": [120, 80, 50]}, {\"order_id\": 2, \"customer\": \"Sara\", \"items\": [200, 150]}, {\"order_id\": 3, \"customer\": \"Raheel\", \"items\": [90, 60, 40, 30]}, {\"order_id\": 4, \"customer\": \"Naveed\", \"items\": [300]}, ]\n",
    "\n",
    "You are given a list of e-commerce orders. Each order has:\n",
    "\n",
    "an order ID\n",
    "\n",
    "a customer name\n",
    "\n",
    "a list of items with prices\n",
    "\n",
    "Write a Python program to print all items for each order using nested while loops."
   ]
  },
  {
   "cell_type": "code",
   "execution_count": 5,
   "id": "55f64910-c4f7-4cb0-b071-4971ba30926f",
   "metadata": {},
   "outputs": [
    {
     "name": "stdout",
     "output_type": "stream",
     "text": [
      "Order ID: 1 Customer: Ali\n",
      "Item Price: 120\n",
      "Item Price: 80\n",
      "Item Price: 50\n",
      "Order ID: 2 Customer: Sara\n",
      "Item Price: 200\n",
      "Item Price: 150\n",
      "Order ID: 3 Customer: Raheel\n",
      "Item Price: 90\n",
      "Item Price: 60\n",
      "Item Price: 40\n",
      "Item Price: 30\n",
      "Order ID: 4 Customer: Naveed\n",
      "Item Price: 300\n"
     ]
    }
   ],
   "source": [
    "orders = [\n",
    "    {\"order_id\": 1, \"customer\": \"Ali\", \"items\": [120, 80, 50]},\n",
    "    {\"order_id\": 2, \"customer\": \"Sara\", \"items\": [200, 150]},\n",
    "    {\"order_id\": 3, \"customer\": \"Raheel\", \"items\": [90, 60, 40, 30]},\n",
    "    {\"order_id\": 4, \"customer\": \"Naveed\", \"items\": [300]},\n",
    "]\n",
    "\n",
    "order_index = 0\n",
    "\n",
    "while order_index < len(orders):\n",
    "    order = orders[order_index]\n",
    "    print(f\"Order ID: {order['order_id']} Customer: {order['customer']}\")\n",
    "    \n",
    "    item_index = 0\n",
    "    while item_index < len(order['items']):\n",
    "        print(f\"Item Price: {order['items'][item_index]}\")\n",
    "        item_index += 1\n",
    "    \n",
    "    order_index += 1\n"
   ]
  },
  {
   "cell_type": "raw",
   "id": "890df549-1567-4734-8406-3be4ac42b4eb",
   "metadata": {},
   "source": [
    "Question 5:\n",
    "\n",
    "Print total amount spent by each customer (Using nested while loop)\n",
    "\n",
    "orders = [ {\"order_id\": 1, \"customer\": \"Ali\", \"items\": [120, 80, 50]}, {\"order_id\": 2, \"customer\": \"Sara\", \"items\": [200, 150]}, {\"order_id\": 3, \"customer\": \"Raheel\", \"items\": [90, 60, 40, 30]}, {\"order_id\": 4, \"customer\": \"Naveed\", \"items\": [300]}, ]"
   ]
  },
  {
   "cell_type": "code",
   "execution_count": 8,
   "id": "f726c448-6f0f-49de-912d-1cf51796f056",
   "metadata": {},
   "outputs": [
    {
     "name": "stdout",
     "output_type": "stream",
     "text": [
      "Ali spent total: 250\n",
      "Sara spent total: 350\n",
      "Raheel spent total: 220\n",
      "Naveed spent total: 300\n"
     ]
    }
   ],
   "source": [
    "orders = [\n",
    "    {\"order_id\": 1, \"customer\": \"Ali\", \"items\": [120, 80, 50]},\n",
    "    {\"order_id\": 2, \"customer\": \"Sara\", \"items\": [200, 150]},\n",
    "    {\"order_id\": 3, \"customer\": \"Raheel\", \"items\": [90, 60, 40, 30]},\n",
    "    {\"order_id\": 4, \"customer\": \"Naveed\", \"items\": [300]},\n",
    "]\n",
    "\n",
    "order_index = 0\n",
    "\n",
    "while order_index < len(orders):\n",
    "    order = orders[order_index]\n",
    "    total_spent = 0\n",
    "    \n",
    "    item_index = 0\n",
    "    while item_index < len(order['items']):\n",
    "        total_spent += order['items'][item_index]\n",
    "        item_index += 1\n",
    "    \n",
    "    print(f\"{order['customer']} spent total: {total_spent}\")\n",
    "    \n",
    "    order_index += 1\n"
   ]
  },
  {
   "cell_type": "raw",
   "id": "0c5863bc-205d-4da8-b89c-d28917a10353",
   "metadata": {},
   "source": [
    "Question 6:\n",
    "\n",
    "Print the maximum item price for each order. (Using nested while loop)\n",
    "\n",
    "orders = [ {\"order_id\": 1, \"customer\": \"Ali\", \"items\": [120, 80, 50]}, {\"order_id\": 2, \"customer\": \"Sara\", \"items\": [200, 150]}, {\"order_id\": 3, \"customer\": \"Raheel\", \"items\": [90, 60, 40, 30]}, {\"order_id\": 4, \"customer\": \"Naveed\", \"items\": [300]}, ]"
   ]
  },
  {
   "cell_type": "code",
   "execution_count": 9,
   "id": "d92ff871-ba06-475f-8a8c-81c984f1178c",
   "metadata": {},
   "outputs": [
    {
     "name": "stdout",
     "output_type": "stream",
     "text": [
      "Most expensive item in Order 1 = 120\n",
      "Most expensive item in Order 2 = 200\n",
      "Most expensive item in Order 3 = 90\n",
      "Most expensive item in Order 4 = 300\n"
     ]
    }
   ],
   "source": [
    "orders = [\n",
    "    {\"order_id\": 1, \"customer\": \"Ali\", \"items\": [120, 80, 50]},\n",
    "    {\"order_id\": 2, \"customer\": \"Sara\", \"items\": [200, 150]},\n",
    "    {\"order_id\": 3, \"customer\": \"Raheel\", \"items\": [90, 60, 40, 30]},\n",
    "    {\"order_id\": 4, \"customer\": \"Naveed\", \"items\": [300]},\n",
    "]\n",
    "\n",
    "order_index = 0\n",
    "\n",
    "while order_index < len(orders):\n",
    "    order = orders[order_index]\n",
    "    max_price = order['items'][0]\n",
    "    \n",
    "    item_index = 1\n",
    "    while item_index < len(order['items']):\n",
    "        if order['items'][item_index] > max_price:\n",
    "            max_price = order['items'][item_index]\n",
    "        item_index += 1\n",
    "    \n",
    "    print(f\"Most expensive item in Order {order['order_id']} = {max_price}\")\n",
    "    \n",
    "    order_index += 1\n"
   ]
  },
  {
   "cell_type": "markdown",
   "id": "40001cf2-6121-40d8-8da4-a48e9fd4e0ad",
   "metadata": {},
   "source": [
    "Question 7:\n",
    "\n",
    "Write a Python program to create a single list (list comprehension) that contains all numbers from 1 to 50 which are multiples of 5 and 10."
   ]
  },
  {
   "cell_type": "code",
   "execution_count": 10,
   "id": "b0307a0b-3ef7-46ee-a82a-2b3ef7dab69e",
   "metadata": {},
   "outputs": [
    {
     "name": "stdout",
     "output_type": "stream",
     "text": [
      "Multiples of 5 and 10 from 1 to 50: [10, 20, 30, 40, 50]\n"
     ]
    }
   ],
   "source": [
    "multiples = [x for x in range(1, 51) if x % 5 == 0 and x % 10 == 0]\n",
    "print(f\"Multiples of 5 and 10 from 1 to 50: {multiples}\")\n"
   ]
  },
  {
   "cell_type": "raw",
   "id": "4705900d-ef49-437e-bc71-a34ad23cbfa6",
   "metadata": {},
   "source": [
    "Question 8:\n",
    "\n",
    "employees = [ {\"emp_id\": 1, \"name\": \"Ali\", \"dept\": \"Sales\", \"salary\": 50000, \"experience\": 2}, {\"emp_id\": 2, \"name\": \"Sara\", \"dept\": \"IT\", \"salary\": 65000, \"experience\": 5}, {\"emp_id\": 3, \"name\": \"Raheel\", \"dept\": \"HR\", \"salary\": 45000, \"experience\": 1}, {\"emp_id\": 4, \"name\": \"Naveed\", \"dept\": \"Finance\", \"salary\": 70000, \"experience\": 7}, {\"emp_id\": 5, \"name\": \"Ayesha\", \"dept\": \"IT\", \"salary\": 72000, \"experience\": 6}, {\"emp_id\": 6, \"name\": \"Talha\", \"dept\": \"Sales\", \"salary\": 55000, \"experience\": 3}, {\"emp_id\": 7, \"name\": \"Sana\", \"dept\": \"Finance\", \"salary\": 80000, \"experience\": 8}, {\"emp_id\": 8, \"name\": \"Hina\", \"dept\": \"HR\", \"salary\": 48000, \"experience\": 2}, ]\n",
    "\n",
    "Using List Comprehension"
   ]
  },
  {
   "cell_type": "code",
   "execution_count": 11,
   "id": "9baa1813-29be-4c07-995d-a83e33316387",
   "metadata": {},
   "outputs": [
    {
     "name": "stdout",
     "output_type": "stream",
     "text": [
      "['Naveed', 'Ayesha', 'Sana']\n"
     ]
    }
   ],
   "source": [
    "employees = [\n",
    "    {\"emp_id\": 1, \"name\": \"Ali\", \"dept\": \"Sales\", \"salary\": 50000, \"experience\": 2},\n",
    "    {\"emp_id\": 2, \"name\": \"Sara\", \"dept\": \"IT\", \"salary\": 65000, \"experience\": 5},\n",
    "    {\"emp_id\": 3, \"name\": \"Raheel\", \"dept\": \"HR\", \"salary\": 45000, \"experience\": 1},\n",
    "    {\"emp_id\": 4, \"name\": \"Naveed\", \"dept\": \"Finance\", \"salary\": 70000, \"experience\": 7},\n",
    "    {\"emp_id\": 5, \"name\": \"Ayesha\", \"dept\": \"IT\", \"salary\": 72000, \"experience\": 6},\n",
    "    {\"emp_id\": 6, \"name\": \"Talha\", \"dept\": \"Sales\", \"salary\": 55000, \"experience\": 3},\n",
    "    {\"emp_id\": 7, \"name\": \"Sana\", \"dept\": \"Finance\", \"salary\": 80000, \"experience\": 8},\n",
    "    {\"emp_id\": 8, \"name\": \"Hina\", \"dept\": \"HR\", \"salary\": 48000, \"experience\": 2},\n",
    "]\n",
    "\n",
    "result_8 = [emp['name'] for emp in employees if emp['salary'] > 60000 and emp['experience'] > 5]\n",
    "print(result_8)\n"
   ]
  },
  {
   "cell_type": "raw",
   "id": "12a48769-fe02-43fc-ba07-a229967bbd26",
   "metadata": {},
   "source": [
    "Question 9:\n",
    "\n",
    "Employees with NOT HR department"
   ]
  },
  {
   "cell_type": "code",
   "execution_count": 12,
   "id": "ff8032bd-8a91-43bc-ab2f-21f10e2fce79",
   "metadata": {},
   "outputs": [
    {
     "name": "stdout",
     "output_type": "stream",
     "text": [
      "['Ali', 'Sara', 'Naveed', 'Ayesha', 'Talha', 'Sana']\n"
     ]
    }
   ],
   "source": [
    "employees = [\n",
    "    {\"emp_id\": 1, \"name\": \"Ali\", \"dept\": \"Sales\", \"salary\": 50000, \"experience\": 2},\n",
    "    {\"emp_id\": 2, \"name\": \"Sara\", \"dept\": \"IT\", \"salary\": 65000, \"experience\": 5},\n",
    "    {\"emp_id\": 3, \"name\": \"Raheel\", \"dept\": \"HR\", \"salary\": 45000, \"experience\": 1},\n",
    "    {\"emp_id\": 4, \"name\": \"Naveed\", \"dept\": \"Finance\", \"salary\": 70000, \"experience\": 7},\n",
    "    {\"emp_id\": 5, \"name\": \"Ayesha\", \"dept\": \"IT\", \"salary\": 72000, \"experience\": 6},\n",
    "    {\"emp_id\": 6, \"name\": \"Talha\", \"dept\": \"Sales\", \"salary\": 55000, \"experience\": 3},\n",
    "    {\"emp_id\": 7, \"name\": \"Sana\", \"dept\": \"Finance\", \"salary\": 80000, \"experience\": 8},\n",
    "    {\"emp_id\": 8, \"name\": \"Hina\", \"dept\": \"HR\", \"salary\": 48000, \"experience\": 2},\n",
    "]\n",
    "\n",
    "result_9 = [emp['name'] for emp in employees if emp['dept'] != 'HR']\n",
    "print(result_9)\n"
   ]
  },
  {
   "cell_type": "raw",
   "id": "98b87b8c-3879-4a25-8189-821ae4ff41c1",
   "metadata": {},
   "source": [
    "Question 10:\n",
    "\n",
    "Employees NOT in Sales OR experience > 5"
   ]
  },
  {
   "cell_type": "code",
   "execution_count": 13,
   "id": "18daf6b9-c246-43dc-b9e2-ef7f4f2c3af3",
   "metadata": {},
   "outputs": [
    {
     "name": "stdout",
     "output_type": "stream",
     "text": [
      "['Sara', 'Raheel', 'Naveed', 'Ayesha', 'Sana', 'Hina']\n"
     ]
    }
   ],
   "source": [
    "employees = [\n",
    "    {\"emp_id\": 1, \"name\": \"Ali\", \"dept\": \"Sales\", \"salary\": 50000, \"experience\": 2},\n",
    "    {\"emp_id\": 2, \"name\": \"Sara\", \"dept\": \"IT\", \"salary\": 65000, \"experience\": 5},\n",
    "    {\"emp_id\": 3, \"name\": \"Raheel\", \"dept\": \"HR\", \"salary\": 45000, \"experience\": 1},\n",
    "    {\"emp_id\": 4, \"name\": \"Naveed\", \"dept\": \"Finance\", \"salary\": 70000, \"experience\": 7},\n",
    "    {\"emp_id\": 5, \"name\": \"Ayesha\", \"dept\": \"IT\", \"salary\": 72000, \"experience\": 6},\n",
    "    {\"emp_id\": 6, \"name\": \"Talha\", \"dept\": \"Sales\", \"salary\": 55000, \"experience\": 3},\n",
    "    {\"emp_id\": 7, \"name\": \"Sana\", \"dept\": \"Finance\", \"salary\": 80000, \"experience\": 8},\n",
    "    {\"emp_id\": 8, \"name\": \"Hina\", \"dept\": \"HR\", \"salary\": 48000, \"experience\": 2},\n",
    "]\n",
    "\n",
    "result_10 = [emp['name'] for emp in employees if emp['dept'] != 'Sales' or emp['experience'] > 5]\n",
    "print(result_10)\n"
   ]
  },
  {
   "cell_type": "code",
   "execution_count": null,
   "id": "8c720783-b6de-4bad-98e9-f51820d110e9",
   "metadata": {},
   "outputs": [],
   "source": []
  }
 ],
 "metadata": {
  "kernelspec": {
   "display_name": "Python 3 (ipykernel)",
   "language": "python",
   "name": "python3"
  },
  "language_info": {
   "codemirror_mode": {
    "name": "ipython",
    "version": 3
   },
   "file_extension": ".py",
   "mimetype": "text/x-python",
   "name": "python",
   "nbconvert_exporter": "python",
   "pygments_lexer": "ipython3",
   "version": "3.13.5"
  }
 },
 "nbformat": 4,
 "nbformat_minor": 5
}
