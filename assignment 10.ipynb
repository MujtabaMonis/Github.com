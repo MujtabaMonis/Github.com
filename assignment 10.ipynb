{
 "cells": [
  {
   "cell_type": "code",
   "execution_count": 1,
   "id": "9afa4455-e34e-4ea3-9f96-08c48f05949e",
   "metadata": {},
   "outputs": [
    {
     "name": "stdout",
     "output_type": "stream",
     "text": [
      "Welcome to the Speed, Distance, and Time Calculator!\n",
      "\n",
      "========================================\n",
      "  Select the value you wish to calculate:\n",
      "========================================\n",
      "1. Calculate Speed (Distance / Time)\n",
      "2. Calculate Distance (Speed x Time)\n",
      "3. Calculate Time (Distance / Speed)\n",
      "4. Exit Program\n",
      "========================================\n"
     ]
    },
    {
     "name": "stdin",
     "output_type": "stream",
     "text": [
      "Enter your choice (1-4):  1\n"
     ]
    },
    {
     "name": "stdout",
     "output_type": "stream",
     "text": [
      "\n",
      "--- Calculate Speed (Distance / Time) ---\n"
     ]
    },
    {
     "name": "stdin",
     "output_type": "stream",
     "text": [
      "Enter Distance:  2\n",
      "Enter Time:  3\n"
     ]
    },
    {
     "name": "stdout",
     "output_type": "stream",
     "text": [
      "\n",
      "✅ Result: Speed = 2.00 / 3.00 = 0.67\n",
      "----------------------------------------\n",
      "\n",
      "========================================\n",
      "  Select the value you wish to calculate:\n",
      "========================================\n",
      "1. Calculate Speed (Distance / Time)\n",
      "2. Calculate Distance (Speed x Time)\n",
      "3. Calculate Time (Distance / Speed)\n",
      "4. Exit Program\n",
      "========================================\n"
     ]
    },
    {
     "name": "stdin",
     "output_type": "stream",
     "text": [
      "Enter your choice (1-4):  4\n"
     ]
    },
    {
     "name": "stdout",
     "output_type": "stream",
     "text": [
      "\n",
      "Thank you for using the calculator. Goodbye!\n"
     ]
    },
    {
     "ename": "SystemExit",
     "evalue": "0",
     "output_type": "error",
     "traceback": [
      "An exception has occurred, use %tb to see the full traceback.\n",
      "\u001b[1;31mSystemExit\u001b[0m\u001b[1;31m:\u001b[0m 0\n"
     ]
    },
    {
     "name": "stderr",
     "output_type": "stream",
     "text": [
      "D:\\New folder\\Lib\\site-packages\\IPython\\core\\interactiveshell.py:3585: UserWarning: To exit: use 'exit', 'quit', or Ctrl-D.\n",
      "  warn(\"To exit: use 'exit', 'quit', or Ctrl-D.\", stacklevel=1)\n"
     ]
    }
   ],
   "source": [
    "# Speed, Distance, and Time Calculator\n",
    "# Objective: Calculate Speed, Distance, or Time based on standard motion formulas.\n",
    "\n",
    "import sys\n",
    "\n",
    "def get_positive_float_input(prompt, allow_zero=False):\n",
    "    \"\"\"\n",
    "    Safely retrieves a floating-point number from the user.\n",
    "    Ensures the value is non-negative and, if allow_zero is False, non-zero.\n",
    "    Includes error handling for non-numeric input.\n",
    "    \"\"\"\n",
    "    while True:\n",
    "        try:\n",
    "            user_input = input(prompt).strip()\n",
    "            value = float(user_input)\n",
    "\n",
    "            # Check for negative values\n",
    "            if value < 0:\n",
    "                print(\"\\n\\tError: Input cannot be negative. Please enter a positive value.\")\n",
    "                continue\n",
    "\n",
    "            # Check for zero if it's not allowed (e.g., for time or speed as a divisor)\n",
    "            if not allow_zero and value == 0:\n",
    "                print(\"\\n\\tError: Input cannot be zero for this calculation (division by zero). Please enter a positive, non-zero value.\")\n",
    "                continue\n",
    "\n",
    "            return value\n",
    "        except ValueError:\n",
    "            print(\"\\n\\tError: Invalid input. Please enter a valid number.\")\n",
    "\n",
    "def calculate_speed():\n",
    "    \"\"\"\n",
    "    Calculates Speed using the formula: Speed = Distance / Time.\n",
    "    Time input is validated to ensure it is not zero.\n",
    "    \"\"\"\n",
    "    print(\"\\n--- Calculate Speed (Distance / Time) ---\")\n",
    "    \n",
    "    # Distance can be zero, so we allow it, though the result will be 0 speed.\n",
    "    distance = get_positive_float_input(\"Enter Distance: \", allow_zero=True)\n",
    "    \n",
    "    # Time is the divisor, so it MUST NOT be zero.\n",
    "    time = get_positive_float_input(\"Enter Time: \", allow_zero=False)\n",
    "\n",
    "    try:\n",
    "        speed = distance / time\n",
    "        print(f\"\\n✅ Result: Speed = {distance:.2f} / {time:.2f} = {speed:.2f}\")\n",
    "    except Exception as e:\n",
    "        # This catch block is mostly redundant due to input validation, but good practice.\n",
    "        print(f\"\\n\\tAn unexpected error occurred: {e}\")\n",
    "        \n",
    "    print(\"----------------------------------------\")\n",
    "\n",
    "def calculate_distance():\n",
    "    \"\"\"\n",
    "    Calculates Distance using the formula: Distance = Speed x Time.\n",
    "    Both Speed and Time must be non-negative.\n",
    "    \"\"\"\n",
    "    print(\"\\n--- Calculate Distance (Speed x Time) ---\")\n",
    "    \n",
    "    speed = get_positive_float_input(\"Enter Speed: \", allow_zero=True)\n",
    "    time = get_positive_float_input(\"Enter Time: \", allow_zero=True)\n",
    "\n",
    "    distance = speed * time\n",
    "    print(f\"\\n✅ Result: Distance = {speed:.2f} * {time:.2f} = {distance:.2f}\")\n",
    "    print(\"-----------------------------------------\")\n",
    "\n",
    "def calculate_time():\n",
    "    \"\"\"\n",
    "    Calculates Time using the formula: Time = Distance / Speed.\n",
    "    Speed input is validated to ensure it is not zero.\n",
    "    \"\"\"\n",
    "    print(\"\\n--- Calculate Time (Distance / Speed) ---\")\n",
    "    \n",
    "    distance = get_positive_float_input(\"Enter Distance: \", allow_zero=True)\n",
    "    \n",
    "    # Speed is the divisor, so it MUST NOT be zero.\n",
    "    speed = get_positive_float_input(\"Enter Speed: \", allow_zero=False)\n",
    "\n",
    "    try:\n",
    "        time = distance / speed\n",
    "        print(f\"\\n✅ Result: Time = {distance:.2f} / {speed:.2f} = {time:.2f}\")\n",
    "    except Exception as e:\n",
    "        # This catch block is mostly redundant due to input validation, but good practice.\n",
    "        print(f\"\\n\\tAn unexpected error occurred: {e}\")\n",
    "        \n",
    "    print(\"---------------------------------------\")\n",
    "\n",
    "def display_menu():\n",
    "    \"\"\"Displays the main menu options to the user.\"\"\"\n",
    "    print(\"\\n========================================\")\n",
    "    print(\"  Select the value you wish to calculate:\")\n",
    "    print(\"========================================\")\n",
    "    print(\"1. Calculate Speed (Distance / Time)\")\n",
    "    print(\"2. Calculate Distance (Speed x Time)\")\n",
    "    print(\"3. Calculate Time (Distance / Speed)\")\n",
    "    print(\"4. Exit Program\")\n",
    "    print(\"========================================\")\n",
    "\n",
    "def main():\n",
    "    \"\"\"Main function to run the calculator program loop.\"\"\"\n",
    "    print(\"Welcome to the Speed, Distance, and Time Calculator!\")\n",
    "\n",
    "    while True:\n",
    "        display_menu()\n",
    "        \n",
    "        choice = input(\"Enter your choice (1-4): \").strip()\n",
    "\n",
    "        if choice == '1':\n",
    "            calculate_speed()\n",
    "        elif choice == '2':\n",
    "            calculate_distance()\n",
    "        elif choice == '3':\n",
    "            calculate_time()\n",
    "        elif choice == '4':\n",
    "            print(\"\\nThank you for using the calculator. Goodbye!\")\n",
    "            sys.exit(0)  # Stop the program\n",
    "        else:\n",
    "            print(\"\\n\\tInvalid choice. Please enter a number between 1 and 4.\")\n",
    "            \n",
    "if __name__ == \"__main__\":\n",
    "    main()\n"
   ]
  },
  {
   "cell_type": "code",
   "execution_count": null,
   "id": "21caa21e-d0bd-4991-8c29-883a523b6b56",
   "metadata": {},
   "outputs": [],
   "source": []
  }
 ],
 "metadata": {
  "kernelspec": {
   "display_name": "Python 3 (ipykernel)",
   "language": "python",
   "name": "python3"
  },
  "language_info": {
   "codemirror_mode": {
    "name": "ipython",
    "version": 3
   },
   "file_extension": ".py",
   "mimetype": "text/x-python",
   "name": "python",
   "nbconvert_exporter": "python",
   "pygments_lexer": "ipython3",
   "version": "3.13.5"
  }
 },
 "nbformat": 4,
 "nbformat_minor": 5
}
